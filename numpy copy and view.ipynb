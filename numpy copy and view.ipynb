{
 "cells": [
  {
   "cell_type": "markdown",
   "id": "f774bcde-f36a-4611-a6e1-7da85d191f92",
   "metadata": {},
   "source": [
    "The Difference Between Copy and View\n",
    "The main difference between a copy and a view of an array is that the copy is a new array, and the view is just a view of the original array.\n",
    "\n",
    "The copy owns the data and any changes made to the copy will not affect original array, and any changes made to the original array will not affect the copy.\n",
    "\n",
    "The view does not own the data and any changes made to the view will affect the original array, and any changes made to the original array will affect the view."
   ]
  },
  {
   "cell_type": "code",
   "execution_count": 1,
   "id": "910b1298-a5d6-4cc2-854c-6cc5a83b57df",
   "metadata": {},
   "outputs": [],
   "source": [
    "import numpy as np"
   ]
  },
  {
   "cell_type": "markdown",
   "id": "04bbf9e4-917a-4f97-a681-bc349888384a",
   "metadata": {},
   "source": [
    "ExampleGet your own Python Server\n",
    "Make a copy, change the original array, and display both arrays:"
   ]
  },
  {
   "cell_type": "code",
   "execution_count": 2,
   "id": "27a73a72-5325-48a7-a839-1cc5741c8b57",
   "metadata": {},
   "outputs": [
    {
     "name": "stdout",
     "output_type": "stream",
     "text": [
      "[42  2  3  4  5]\n",
      "[1 2 3 4 5]\n"
     ]
    }
   ],
   "source": [
    "x=np.array([1,2,3,4,5])\n",
    "x1=x.copy()\n",
    "x[0]=42\n",
    "print(x)\n",
    "print(x1)\n"
   ]
  },
  {
   "cell_type": "code",
   "execution_count": 4,
   "id": "207ffc41-21f6-44cc-bcbc-91c7c640b832",
   "metadata": {},
   "outputs": [
    {
     "name": "stdout",
     "output_type": "stream",
     "text": [
      "[10 20 30 80 50]\n",
      "[10 20 30 40 50]\n"
     ]
    }
   ],
   "source": [
    "y=np.array([10,20,30,40,50])\n",
    "y1=y.copy()\n",
    "y[3]=80\n",
    "print(y)\n",
    "print(y1)\n"
   ]
  },
  {
   "cell_type": "code",
   "execution_count": 6,
   "id": "eddee2db-1c05-4eb8-b712-17976c73b838",
   "metadata": {},
   "outputs": [
    {
     "name": "stdout",
     "output_type": "stream",
     "text": [
      "[ 20  40 100  90]\n",
      "[20 40 80 90]\n"
     ]
    }
   ],
   "source": [
    "z=np.array([20,40,80,90])\n",
    "z1=z.copy()\n",
    "z[2]=100\n",
    "print(z)\n",
    "print(z1)"
   ]
  },
  {
   "cell_type": "markdown",
   "id": "283b5745-e603-4b4f-b7c4-3a253ecce82f",
   "metadata": {},
   "source": [
    "Example\n",
    "Make a view, change the view, and display both arrays:"
   ]
  },
  {
   "cell_type": "code",
   "execution_count": 7,
   "id": "34999a2b-f0f2-452f-bcab-b3ec04ffab71",
   "metadata": {},
   "outputs": [
    {
     "name": "stdout",
     "output_type": "stream",
     "text": [
      "[10 20 90 40 50]\n",
      "[10 20 90 40 50]\n"
     ]
    }
   ],
   "source": [
    "x=np.array([10,20,30,40,50])\n",
    "x1=x.view()\n",
    "x[2]=90\n",
    "print(x)\n",
    "print(x1)"
   ]
  },
  {
   "cell_type": "code",
   "execution_count": 8,
   "id": "51266c66-ad8f-4bf0-af83-60832b1f1221",
   "metadata": {},
   "outputs": [
    {
     "name": "stdout",
     "output_type": "stream",
     "text": [
      "[ 1 10  3  4  5]\n",
      "[ 1 10  3  4  5]\n"
     ]
    }
   ],
   "source": [
    "x=np.array([1,2,3,4,5])\n",
    "x1=x.view()\n",
    "x[1]=10\n",
    "print(x)\n",
    "print(x1)"
   ]
  },
  {
   "cell_type": "code",
   "execution_count": null,
   "id": "48baad16-cba5-4cb3-9497-1d4de1a3ec47",
   "metadata": {},
   "outputs": [],
   "source": []
  }
 ],
 "metadata": {
  "kernelspec": {
   "display_name": "Python 3 (ipykernel)",
   "language": "python",
   "name": "python3"
  },
  "language_info": {
   "codemirror_mode": {
    "name": "ipython",
    "version": 3
   },
   "file_extension": ".py",
   "mimetype": "text/x-python",
   "name": "python",
   "nbconvert_exporter": "python",
   "pygments_lexer": "ipython3",
   "version": "3.12.2"
  }
 },
 "nbformat": 4,
 "nbformat_minor": 5
}
